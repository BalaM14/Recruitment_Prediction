{
 "cells": [
  {
   "cell_type": "markdown",
   "metadata": {},
   "source": [
    "# Data Pre-Processing\n"
   ]
  },
  {
   "cell_type": "markdown",
   "metadata": {},
   "source": [
    "#### Import Packages and CSV"
   ]
  },
  {
   "cell_type": "code",
   "execution_count": 2,
   "metadata": {},
   "outputs": [],
   "source": [
    "import os"
   ]
  },
  {
   "cell_type": "code",
   "execution_count": 3,
   "metadata": {},
   "outputs": [],
   "source": [
    "os.chdir(\"../\")"
   ]
  },
  {
   "cell_type": "code",
   "execution_count": 4,
   "metadata": {},
   "outputs": [
    {
     "name": "stdout",
     "output_type": "stream",
     "text": [
      "(1500, 11)\n"
     ]
    }
   ],
   "source": [
    "import pandas as pd\n",
    "import numpy as np\n",
    "import matplotlib.pyplot as plt\n",
    "import seaborn as sns\n",
    "import warnings\n",
    "warnings.filterwarnings(\"ignore\")\n",
    "pd.pandas.set_option(\"display.max_columns\", None)\n",
    "# Create Dataframe\n",
    "df = pd.read_csv(r\"recruitment_data.csv\")\n",
    "# Print shape of dataset\n",
    "print(df.shape)"
   ]
  },
  {
   "cell_type": "markdown",
   "metadata": {},
   "source": [
    "## Data Cleaning"
   ]
  },
  {
   "cell_type": "markdown",
   "metadata": {},
   "source": [
    "### Handling Missing values\n",
    "* Handling Missing values \n",
    "* Handling Duplicates\n",
    "* Check data type\n",
    "* Understand the dataset\n"
   ]
  },
  {
   "cell_type": "markdown",
   "metadata": {},
   "source": [
    "#### Check Null Values"
   ]
  },
  {
   "cell_type": "code",
   "execution_count": 6,
   "metadata": {},
   "outputs": [
    {
     "data": {
      "text/plain": [
       "[]"
      ]
     },
     "execution_count": 6,
     "metadata": {},
     "output_type": "execute_result"
    }
   ],
   "source": [
    "##these are the features with nan value\n",
    "features_with_na=[features for features in df.columns if df[features].isnull().sum()>=1]\n",
    "for feature in features_with_na:\n",
    "    print(feature,np.round(df[feature].isnull().mean()*100,5), '% missing values')\n",
    "\n",
    "features_with_na"
   ]
  },
  {
   "cell_type": "markdown",
   "metadata": {},
   "source": [
    "* **There are no null values in the dataset**"
   ]
  },
  {
   "cell_type": "markdown",
   "metadata": {},
   "source": [
    "### 3.2 Other Data Cleaning steps"
   ]
  },
  {
   "cell_type": "markdown",
   "metadata": {},
   "source": [
    "**Handling Duplicates**"
   ]
  },
  {
   "cell_type": "code",
   "execution_count": 7,
   "metadata": {},
   "outputs": [
    {
     "data": {
      "text/plain": [
       "0"
      ]
     },
     "execution_count": 7,
     "metadata": {},
     "output_type": "execute_result"
    }
   ],
   "source": [
    "df.duplicated().sum()"
   ]
  },
  {
   "cell_type": "markdown",
   "metadata": {},
   "source": [
    "* **No Duplicates in the dataset**"
   ]
  },
  {
   "cell_type": "markdown",
   "metadata": {},
   "source": [
    "# Feature Engineering"
   ]
  },
  {
   "cell_type": "markdown",
   "metadata": {},
   "source": [
    "## Feature Extraction"
   ]
  },
  {
   "cell_type": "code",
   "execution_count": 8,
   "metadata": {},
   "outputs": [
    {
     "data": {
      "text/html": [
       "<div>\n",
       "<style scoped>\n",
       "    .dataframe tbody tr th:only-of-type {\n",
       "        vertical-align: middle;\n",
       "    }\n",
       "\n",
       "    .dataframe tbody tr th {\n",
       "        vertical-align: top;\n",
       "    }\n",
       "\n",
       "    .dataframe thead th {\n",
       "        text-align: right;\n",
       "    }\n",
       "</style>\n",
       "<table border=\"1\" class=\"dataframe\">\n",
       "  <thead>\n",
       "    <tr style=\"text-align: right;\">\n",
       "      <th></th>\n",
       "      <th>Age</th>\n",
       "      <th>Gender</th>\n",
       "      <th>EducationLevel</th>\n",
       "      <th>ExperienceYears</th>\n",
       "      <th>PreviousCompanies</th>\n",
       "      <th>DistanceFromCompany</th>\n",
       "      <th>InterviewScore</th>\n",
       "      <th>SkillScore</th>\n",
       "      <th>PersonalityScore</th>\n",
       "      <th>RecruitmentStrategy</th>\n",
       "      <th>HiringDecision</th>\n",
       "    </tr>\n",
       "  </thead>\n",
       "  <tbody>\n",
       "    <tr>\n",
       "      <th>0</th>\n",
       "      <td>26</td>\n",
       "      <td>1</td>\n",
       "      <td>2</td>\n",
       "      <td>0</td>\n",
       "      <td>3</td>\n",
       "      <td>26.783828</td>\n",
       "      <td>48</td>\n",
       "      <td>78</td>\n",
       "      <td>91</td>\n",
       "      <td>1</td>\n",
       "      <td>1</td>\n",
       "    </tr>\n",
       "    <tr>\n",
       "      <th>1</th>\n",
       "      <td>39</td>\n",
       "      <td>1</td>\n",
       "      <td>4</td>\n",
       "      <td>12</td>\n",
       "      <td>3</td>\n",
       "      <td>25.862694</td>\n",
       "      <td>35</td>\n",
       "      <td>68</td>\n",
       "      <td>80</td>\n",
       "      <td>2</td>\n",
       "      <td>1</td>\n",
       "    </tr>\n",
       "    <tr>\n",
       "      <th>2</th>\n",
       "      <td>48</td>\n",
       "      <td>0</td>\n",
       "      <td>2</td>\n",
       "      <td>3</td>\n",
       "      <td>2</td>\n",
       "      <td>9.920805</td>\n",
       "      <td>20</td>\n",
       "      <td>67</td>\n",
       "      <td>13</td>\n",
       "      <td>2</td>\n",
       "      <td>0</td>\n",
       "    </tr>\n",
       "    <tr>\n",
       "      <th>3</th>\n",
       "      <td>34</td>\n",
       "      <td>1</td>\n",
       "      <td>2</td>\n",
       "      <td>5</td>\n",
       "      <td>2</td>\n",
       "      <td>6.407751</td>\n",
       "      <td>36</td>\n",
       "      <td>27</td>\n",
       "      <td>70</td>\n",
       "      <td>3</td>\n",
       "      <td>0</td>\n",
       "    </tr>\n",
       "    <tr>\n",
       "      <th>4</th>\n",
       "      <td>30</td>\n",
       "      <td>0</td>\n",
       "      <td>1</td>\n",
       "      <td>6</td>\n",
       "      <td>1</td>\n",
       "      <td>43.105343</td>\n",
       "      <td>23</td>\n",
       "      <td>52</td>\n",
       "      <td>85</td>\n",
       "      <td>2</td>\n",
       "      <td>0</td>\n",
       "    </tr>\n",
       "  </tbody>\n",
       "</table>\n",
       "</div>"
      ],
      "text/plain": [
       "   Age  Gender  EducationLevel  ExperienceYears  PreviousCompanies  \\\n",
       "0   26       1               2                0                  3   \n",
       "1   39       1               4               12                  3   \n",
       "2   48       0               2                3                  2   \n",
       "3   34       1               2                5                  2   \n",
       "4   30       0               1                6                  1   \n",
       "\n",
       "   DistanceFromCompany  InterviewScore  SkillScore  PersonalityScore  \\\n",
       "0            26.783828              48          78                91   \n",
       "1            25.862694              35          68                80   \n",
       "2             9.920805              20          67                13   \n",
       "3             6.407751              36          27                70   \n",
       "4            43.105343              23          52                85   \n",
       "\n",
       "   RecruitmentStrategy  HiringDecision  \n",
       "0                    1               1  \n",
       "1                    2               1  \n",
       "2                    2               0  \n",
       "3                    3               0  \n",
       "4                    2               0  "
      ]
     },
     "execution_count": 8,
     "metadata": {},
     "output_type": "execute_result"
    }
   ],
   "source": [
    "df.head()"
   ]
  },
  {
   "cell_type": "code",
   "execution_count": 42,
   "metadata": {},
   "outputs": [
    {
     "data": {
      "text/plain": [
       "(1500, 11)"
      ]
     },
     "execution_count": 42,
     "metadata": {},
     "output_type": "execute_result"
    }
   ],
   "source": [
    "df.shape"
   ]
  },
  {
   "cell_type": "code",
   "execution_count": 41,
   "metadata": {},
   "outputs": [
    {
     "data": {
      "text/plain": [
       "Index(['Age', 'Gender', 'EducationLevel', 'ExperienceYears',\n",
       "       'PreviousCompanies', 'DistanceFromCompany', 'InterviewScore',\n",
       "       'SkillScore', 'PersonalityScore', 'RecruitmentStrategy',\n",
       "       'HiringDecision'],\n",
       "      dtype='object')"
      ]
     },
     "execution_count": 41,
     "metadata": {},
     "output_type": "execute_result"
    }
   ],
   "source": [
    "df.columns"
   ]
  },
  {
   "cell_type": "markdown",
   "metadata": {},
   "source": [
    "### Type of Features"
   ]
  },
  {
   "cell_type": "markdown",
   "metadata": {},
   "source": [
    "**Numeric Features**"
   ]
  },
  {
   "cell_type": "code",
   "execution_count": 9,
   "metadata": {},
   "outputs": [
    {
     "name": "stdout",
     "output_type": "stream",
     "text": [
      "Num of Numerical Features : 11\n"
     ]
    }
   ],
   "source": [
    "num_features = [feature for feature in df.columns if df[feature].dtype != 'O']\n",
    "print('Num of Numerical Features :', len(num_features))"
   ]
  },
  {
   "cell_type": "markdown",
   "metadata": {},
   "source": [
    "**Categorical Features**"
   ]
  },
  {
   "cell_type": "code",
   "execution_count": 10,
   "metadata": {},
   "outputs": [
    {
     "name": "stdout",
     "output_type": "stream",
     "text": [
      "Num of Categorical Features : 0\n"
     ]
    }
   ],
   "source": [
    "cat_features = [feature for feature in df.columns if df[feature].dtype == 'O']\n",
    "print('Num of Categorical Features :', len(cat_features))"
   ]
  },
  {
   "cell_type": "markdown",
   "metadata": {},
   "source": [
    "**Discrete features**"
   ]
  },
  {
   "cell_type": "code",
   "execution_count": 11,
   "metadata": {},
   "outputs": [
    {
     "name": "stdout",
     "output_type": "stream",
     "text": [
      "Num of Discrete Features : 6\n"
     ]
    }
   ],
   "source": [
    "discrete_features=[feature for feature in num_features if len(df[feature].unique())<=25]\n",
    "print('Num of Discrete Features :',len(discrete_features))"
   ]
  },
  {
   "cell_type": "markdown",
   "metadata": {},
   "source": [
    "**Continues Features**"
   ]
  },
  {
   "cell_type": "code",
   "execution_count": 12,
   "metadata": {},
   "outputs": [
    {
     "name": "stdout",
     "output_type": "stream",
     "text": [
      "Num of Continuous Features : 5\n"
     ]
    }
   ],
   "source": [
    "continuous_features=[feature for feature in num_features if feature not in discrete_features]\n",
    "print('Num of Continuous Features :',len(continuous_features))"
   ]
  },
  {
   "cell_type": "markdown",
   "metadata": {},
   "source": [
    "### Split X and Y"
   ]
  },
  {
   "cell_type": "markdown",
   "metadata": {},
   "source": [
    "* **Split Dataframe to X and y**\n",
    "* **Here we set a variable X i.e, independent columns, and a variable y i.e, dependent column as the “Case_Status” column.**\n"
   ]
  },
  {
   "cell_type": "code",
   "execution_count": 13,
   "metadata": {},
   "outputs": [],
   "source": [
    "X = df.drop('HiringDecision', axis=1)\n",
    "y = df['HiringDecision']"
   ]
  },
  {
   "cell_type": "code",
   "execution_count": 15,
   "metadata": {},
   "outputs": [
    {
     "data": {
      "text/plain": [
       "0       1\n",
       "1       1\n",
       "2       0\n",
       "3       0\n",
       "4       0\n",
       "       ..\n",
       "1495    1\n",
       "1496    0\n",
       "1497    1\n",
       "1498    1\n",
       "1499    1\n",
       "Name: HiringDecision, Length: 1500, dtype: int64"
      ]
     },
     "execution_count": 15,
     "metadata": {},
     "output_type": "execute_result"
    }
   ],
   "source": [
    "y"
   ]
  },
  {
   "cell_type": "markdown",
   "metadata": {},
   "source": [
    "## Feature Encoding and Scaling"
   ]
  },
  {
   "cell_type": "code",
   "execution_count": 20,
   "metadata": {},
   "outputs": [
    {
     "data": {
      "text/plain": [
       "['Age',\n",
       " 'Gender',\n",
       " 'EducationLevel',\n",
       " 'ExperienceYears',\n",
       " 'PreviousCompanies',\n",
       " 'DistanceFromCompany',\n",
       " 'InterviewScore',\n",
       " 'SkillScore',\n",
       " 'PersonalityScore',\n",
       " 'RecruitmentStrategy',\n",
       " 'HiringDecision']"
      ]
     },
     "execution_count": 20,
     "metadata": {},
     "output_type": "execute_result"
    }
   ],
   "source": [
    "num_features = "
   ]
  },
  {
   "cell_type": "markdown",
   "metadata": {},
   "source": [
    "### **Preprocessing using Column Transformer**"
   ]
  },
  {
   "cell_type": "code",
   "execution_count": 23,
   "metadata": {},
   "outputs": [],
   "source": [
    "# Create Column Transformer with 3 types of transformers\n",
    "\n",
    "\n",
    "from sklearn.preprocessing import StandardScaler\n",
    "from sklearn.compose import ColumnTransformer \n",
    "from sklearn.pipeline import Pipeline\n",
    "\n",
    "numeric_transformer = StandardScaler()\n",
    "\n",
    "preprocessor = ColumnTransformer(\n",
    "    [\n",
    "        (\"StandardScaler\", numeric_transformer, num_features[:-1])\n",
    "    ]\n",
    ")"
   ]
  },
  {
   "cell_type": "code",
   "execution_count": 24,
   "metadata": {},
   "outputs": [],
   "source": [
    "X = preprocessor.fit_transform(X)"
   ]
  },
  {
   "cell_type": "code",
   "execution_count": 25,
   "metadata": {},
   "outputs": [
    {
     "data": {
      "text/plain": [
       "array([[-0.9890832 ,  1.01613007, -0.21805656, ...,  0.91617383,\n",
       "         1.41812626, -1.29579025],\n",
       "       [ 0.41637642,  1.01613007,  2.1016941 , ...,  0.57538606,\n",
       "         1.0432551 ,  0.15472122],\n",
       "       [ 1.38938694, -0.98412598, -0.21805656, ...,  0.54130729,\n",
       "        -1.2400511 ,  0.15472122],\n",
       "       ...,\n",
       "       [-1.20530776,  1.01613007, -1.37793189, ...,  1.35919793,\n",
       "         0.29351276, -1.29579025],\n",
       "       [ 1.38938694, -0.98412598, -0.21805656, ..., -0.48105601,\n",
       "        -0.18359599,  0.15472122],\n",
       "       [-0.12418497,  1.01613007, -0.21805656, ..., -0.37881968,\n",
       "        -0.79702154,  0.15472122]])"
      ]
     },
     "execution_count": 25,
     "metadata": {},
     "output_type": "execute_result"
    }
   ],
   "source": [
    "X"
   ]
  },
  {
   "cell_type": "markdown",
   "metadata": {},
   "source": [
    "## Train Test Split\n",
    "- The train-test split procedure is used to estimate the performance of machine learning algorithms when they are used to make predictions on data not used to train the model.\n",
    "\n",
    "- It is a fast and easy procedure to perform, the results of which allow you to compare the performance of machine learning algorithms."
   ]
  },
  {
   "cell_type": "code",
   "execution_count": 26,
   "metadata": {},
   "outputs": [
    {
     "data": {
      "text/plain": [
       "((1200, 10), (300, 10))"
      ]
     },
     "execution_count": 26,
     "metadata": {},
     "output_type": "execute_result"
    }
   ],
   "source": [
    "from sklearn.model_selection import  train_test_split\n",
    "# separate dataset into train and test\n",
    "X_train, X_test, y_train, y_test = train_test_split(X,y,test_size=0.2,random_state=42)\n",
    "X_train.shape, X_test.shape"
   ]
  },
  {
   "cell_type": "code",
   "execution_count": 27,
   "metadata": {},
   "outputs": [],
   "source": [
    "from sklearn.ensemble import RandomForestClassifier, AdaBoostClassifier, GradientBoostingClassifier\n",
    "from sklearn.linear_model import LogisticRegression\n",
    "from sklearn.neighbors import KNeighborsClassifier\n",
    "from sklearn.tree import DecisionTreeClassifier\n",
    "from sklearn.svm import SVC\n",
    "from sklearn.metrics import accuracy_score, classification_report,ConfusionMatrixDisplay, \\\n",
    "                            precision_score, recall_score, f1_score, roc_auc_score,roc_curve \n",
    "from xgboost import XGBClassifier\n",
    "from catboost import CatBoostClassifier"
   ]
  },
  {
   "cell_type": "code",
   "execution_count": 28,
   "metadata": {},
   "outputs": [],
   "source": [
    "def evaluate_clf(true, predicted):\n",
    "    acc = accuracy_score(true, predicted) # Calculate Accuracy\n",
    "    f1 = f1_score(true, predicted) # Calculate F1-score\n",
    "    precision = precision_score(true, predicted) # Calculate Precision\n",
    "    recall = recall_score(true, predicted)  # Calculate Recall\n",
    "    roc_auc = roc_auc_score(true, predicted) #Calculate Roc\n",
    "    return acc, f1 , precision, recall, roc_auc"
   ]
  },
  {
   "cell_type": "code",
   "execution_count": 29,
   "metadata": {},
   "outputs": [],
   "source": [
    "models = {\n",
    "    \"Random Forest\": RandomForestClassifier(),\n",
    "    \"Decision Tree\": DecisionTreeClassifier(),\n",
    "    \"Gradient Boosting\": GradientBoostingClassifier(),\n",
    "    \"Logistic Regression\": LogisticRegression(),\n",
    "     \"K-Neighbors Classifier\": KNeighborsClassifier(),\n",
    "    \"XGBClassifier\": XGBClassifier(), \n",
    "     \"CatBoosting Classifier\": CatBoostClassifier(verbose=False),\n",
    "     \"Support Vector Classifier\": SVC(),\n",
    "    \"AdaBoost Classifier\": AdaBoostClassifier()\n",
    "\n",
    "}"
   ]
  },
  {
   "cell_type": "code",
   "execution_count": 30,
   "metadata": {},
   "outputs": [],
   "source": [
    "# Create a function which can evaluate models and return a report \n",
    "def evaluate_models(X, y, models):\n",
    "    '''\n",
    "    This function takes in X and y and models dictionary as input\n",
    "    It splits the data into Train Test split\n",
    "    Iterates through the given model dictionary and evaluates the metrics\n",
    "    Returns: Dataframe which contains report of all models metrics with cost\n",
    "    '''\n",
    "    # separate dataset into train and test\n",
    "    X_train, X_test, y_train, y_test = train_test_split(X,y,test_size=0.2,random_state=42)\n",
    "    \n",
    "    models_list = []\n",
    "    accuracy_list = []\n",
    "    auc= []\n",
    "    \n",
    "    for i in range(len(list(models))):\n",
    "        model = list(models.values())[i]\n",
    "        model.fit(X_train, y_train) # Train model\n",
    "\n",
    "        # Make predictions\n",
    "        y_train_pred = model.predict(X_train)\n",
    "        y_test_pred = model.predict(X_test)\n",
    "\n",
    "        # Training set performance\n",
    "        model_train_accuracy, model_train_f1,model_train_precision,\\\n",
    "        model_train_recall,model_train_rocauc_score=evaluate_clf(y_train ,y_train_pred)\n",
    "\n",
    "\n",
    "        # Test set performance\n",
    "        model_test_accuracy,model_test_f1,model_test_precision,\\\n",
    "        model_test_recall,model_test_rocauc_score=evaluate_clf(y_test, y_test_pred)\n",
    "\n",
    "        print(list(models.keys())[i])\n",
    "        models_list.append(list(models.keys())[i])\n",
    "\n",
    "        print('Model performance for Training set')\n",
    "        print(\"- Accuracy: {:.4f}\".format(model_train_accuracy))\n",
    "        print('- F1 score: {:.4f}'.format(model_train_f1)) \n",
    "        print('- Precision: {:.4f}'.format(model_train_precision))\n",
    "        print('- Recall: {:.4f}'.format(model_train_recall))\n",
    "        print('- Roc Auc Score: {:.4f}'.format(model_train_rocauc_score))\n",
    "\n",
    "        print('----------------------------------')\n",
    "\n",
    "        print('Model performance for Test set')\n",
    "        print('- Accuracy: {:.4f}'.format(model_test_accuracy))\n",
    "        accuracy_list.append(model_test_accuracy)\n",
    "        print('- F1 score: {:.4f}'.format(model_test_f1))\n",
    "        print('- Precision: {:.4f}'.format(model_test_precision))\n",
    "        print('- Recall: {:.4f}'.format(model_test_recall))\n",
    "        print('- Roc Auc Score: {:.4f}'.format(model_test_rocauc_score))\n",
    "        auc.append(model_test_rocauc_score)\n",
    "        print('='*35)\n",
    "        print('\\n')\n",
    "        \n",
    "    report=pd.DataFrame(list(zip(models_list, accuracy_list)), columns=['Model Name', 'Accuracy']).sort_values(by=['Accuracy'], ascending=False)\n",
    "        \n",
    "    return report"
   ]
  },
  {
   "cell_type": "markdown",
   "metadata": {},
   "source": [
    "## Model Training "
   ]
  },
  {
   "cell_type": "code",
   "execution_count": 31,
   "metadata": {},
   "outputs": [
    {
     "name": "stdout",
     "output_type": "stream",
     "text": [
      "Random Forest\n",
      "Model performance for Training set\n",
      "- Accuracy: 1.0000\n",
      "- F1 score: 1.0000\n",
      "- Precision: 1.0000\n",
      "- Recall: 1.0000\n",
      "- Roc Auc Score: 1.0000\n",
      "----------------------------------\n",
      "Model performance for Test set\n",
      "- Accuracy: 0.9400\n",
      "- F1 score: 0.8889\n",
      "- Precision: 0.9351\n",
      "- Recall: 0.8471\n",
      "- Roc Auc Score: 0.9119\n",
      "===================================\n",
      "\n",
      "\n",
      "Decision Tree\n",
      "Model performance for Training set\n",
      "- Accuracy: 1.0000\n",
      "- F1 score: 1.0000\n",
      "- Precision: 1.0000\n",
      "- Recall: 1.0000\n",
      "- Roc Auc Score: 1.0000\n",
      "----------------------------------\n",
      "Model performance for Test set\n",
      "- Accuracy: 0.8833\n",
      "- F1 score: 0.8023\n",
      "- Precision: 0.7717\n",
      "- Recall: 0.8353\n",
      "- Roc Auc Score: 0.8688\n",
      "===================================\n",
      "\n",
      "\n",
      "Gradient Boosting\n",
      "Model performance for Training set\n",
      "- Accuracy: 0.9675\n",
      "- F1 score: 0.9474\n",
      "- Precision: 0.9723\n",
      "- Recall: 0.9237\n",
      "- Roc Auc Score: 0.9557\n",
      "----------------------------------\n",
      "Model performance for Test set\n",
      "- Accuracy: 0.9333\n",
      "- F1 score: 0.8810\n",
      "- Precision: 0.8916\n",
      "- Recall: 0.8706\n",
      "- Roc Auc Score: 0.9144\n",
      "===================================\n",
      "\n",
      "\n",
      "Logistic Regression\n",
      "Model performance for Training set\n",
      "- Accuracy: 0.8550\n",
      "- F1 score: 0.7590\n",
      "- Precision: 0.8012\n",
      "- Recall: 0.7211\n",
      "- Roc Auc Score: 0.8191\n",
      "----------------------------------\n",
      "Model performance for Test set\n",
      "- Accuracy: 0.8667\n",
      "- F1 score: 0.7561\n",
      "- Precision: 0.7848\n",
      "- Recall: 0.7294\n",
      "- Roc Auc Score: 0.8252\n",
      "===================================\n",
      "\n",
      "\n",
      "K-Neighbors Classifier\n",
      "Model performance for Training set\n",
      "- Accuracy: 0.8967\n",
      "- F1 score: 0.8263\n",
      "- Precision: 0.8832\n",
      "- Recall: 0.7763\n",
      "- Roc Auc Score: 0.8644\n",
      "----------------------------------\n",
      "Model performance for Test set\n",
      "- Accuracy: 0.8767\n",
      "- F1 score: 0.7582\n",
      "- Precision: 0.8529\n",
      "- Recall: 0.6824\n",
      "- Roc Auc Score: 0.8179\n",
      "===================================\n",
      "\n",
      "\n",
      "XGBClassifier\n",
      "Model performance for Training set\n",
      "- Accuracy: 1.0000\n",
      "- F1 score: 1.0000\n",
      "- Precision: 1.0000\n",
      "- Recall: 1.0000\n",
      "- Roc Auc Score: 1.0000\n",
      "----------------------------------\n",
      "Model performance for Test set\n",
      "- Accuracy: 0.9400\n",
      "- F1 score: 0.8929\n",
      "- Precision: 0.9036\n",
      "- Recall: 0.8824\n",
      "- Roc Auc Score: 0.9226\n",
      "===================================\n",
      "\n",
      "\n",
      "CatBoosting Classifier\n",
      "Model performance for Training set\n",
      "- Accuracy: 0.9892\n",
      "- F1 score: 0.9826\n",
      "- Precision: 1.0000\n",
      "- Recall: 0.9658\n",
      "- Roc Auc Score: 0.9829\n",
      "----------------------------------\n",
      "Model performance for Test set\n",
      "- Accuracy: 0.9533\n",
      "- F1 score: 0.9167\n",
      "- Precision: 0.9277\n",
      "- Recall: 0.9059\n",
      "- Roc Auc Score: 0.9390\n",
      "===================================\n",
      "\n",
      "\n",
      "Support Vector Classifier\n",
      "Model performance for Training set\n",
      "- Accuracy: 0.9058\n",
      "- F1 score: 0.8433\n",
      "- Precision: 0.8915\n",
      "- Recall: 0.8000\n",
      "- Roc Auc Score: 0.8774\n",
      "----------------------------------\n",
      "Model performance for Test set\n",
      "- Accuracy: 0.9133\n",
      "- F1 score: 0.8395\n",
      "- Precision: 0.8831\n",
      "- Recall: 0.8000\n",
      "- Roc Auc Score: 0.8791\n",
      "===================================\n",
      "\n",
      "\n",
      "AdaBoost Classifier\n",
      "Model performance for Training set\n",
      "- Accuracy: 0.9275\n",
      "- F1 score: 0.8820\n",
      "- Precision: 0.9104\n",
      "- Recall: 0.8553\n",
      "- Roc Auc Score: 0.9081\n",
      "----------------------------------\n",
      "Model performance for Test set\n",
      "- Accuracy: 0.9067\n",
      "- F1 score: 0.8427\n",
      "- Precision: 0.8065\n",
      "- Recall: 0.8824\n",
      "- Roc Auc Score: 0.8993\n",
      "===================================\n",
      "\n",
      "\n"
     ]
    }
   ],
   "source": [
    "base_model_report =evaluate_models(X=X, y=y, models=models)"
   ]
  },
  {
   "cell_type": "markdown",
   "metadata": {},
   "source": [
    "**Results of All Models**"
   ]
  },
  {
   "cell_type": "code",
   "execution_count": 32,
   "metadata": {},
   "outputs": [
    {
     "data": {
      "text/html": [
       "<div>\n",
       "<style scoped>\n",
       "    .dataframe tbody tr th:only-of-type {\n",
       "        vertical-align: middle;\n",
       "    }\n",
       "\n",
       "    .dataframe tbody tr th {\n",
       "        vertical-align: top;\n",
       "    }\n",
       "\n",
       "    .dataframe thead th {\n",
       "        text-align: right;\n",
       "    }\n",
       "</style>\n",
       "<table border=\"1\" class=\"dataframe\">\n",
       "  <thead>\n",
       "    <tr style=\"text-align: right;\">\n",
       "      <th></th>\n",
       "      <th>Model Name</th>\n",
       "      <th>Accuracy</th>\n",
       "    </tr>\n",
       "  </thead>\n",
       "  <tbody>\n",
       "    <tr>\n",
       "      <th>6</th>\n",
       "      <td>CatBoosting Classifier</td>\n",
       "      <td>0.953333</td>\n",
       "    </tr>\n",
       "    <tr>\n",
       "      <th>0</th>\n",
       "      <td>Random Forest</td>\n",
       "      <td>0.940000</td>\n",
       "    </tr>\n",
       "    <tr>\n",
       "      <th>5</th>\n",
       "      <td>XGBClassifier</td>\n",
       "      <td>0.940000</td>\n",
       "    </tr>\n",
       "    <tr>\n",
       "      <th>2</th>\n",
       "      <td>Gradient Boosting</td>\n",
       "      <td>0.933333</td>\n",
       "    </tr>\n",
       "    <tr>\n",
       "      <th>7</th>\n",
       "      <td>Support Vector Classifier</td>\n",
       "      <td>0.913333</td>\n",
       "    </tr>\n",
       "    <tr>\n",
       "      <th>8</th>\n",
       "      <td>AdaBoost Classifier</td>\n",
       "      <td>0.906667</td>\n",
       "    </tr>\n",
       "    <tr>\n",
       "      <th>1</th>\n",
       "      <td>Decision Tree</td>\n",
       "      <td>0.883333</td>\n",
       "    </tr>\n",
       "    <tr>\n",
       "      <th>4</th>\n",
       "      <td>K-Neighbors Classifier</td>\n",
       "      <td>0.876667</td>\n",
       "    </tr>\n",
       "    <tr>\n",
       "      <th>3</th>\n",
       "      <td>Logistic Regression</td>\n",
       "      <td>0.866667</td>\n",
       "    </tr>\n",
       "  </tbody>\n",
       "</table>\n",
       "</div>"
      ],
      "text/plain": [
       "                  Model Name  Accuracy\n",
       "6     CatBoosting Classifier  0.953333\n",
       "0              Random Forest  0.940000\n",
       "5              XGBClassifier  0.940000\n",
       "2          Gradient Boosting  0.933333\n",
       "7  Support Vector Classifier  0.913333\n",
       "8        AdaBoost Classifier  0.906667\n",
       "1              Decision Tree  0.883333\n",
       "4     K-Neighbors Classifier  0.876667\n",
       "3        Logistic Regression  0.866667"
      ]
     },
     "execution_count": 32,
     "metadata": {},
     "output_type": "execute_result"
    }
   ],
   "source": [
    "base_model_report"
   ]
  },
  {
   "cell_type": "markdown",
   "metadata": {},
   "source": [
    "**Here we can use CatBoosting Classifier for Hyper Parameter Tuning**"
   ]
  },
  {
   "cell_type": "markdown",
   "metadata": {},
   "source": [
    "**Define the parameter distribution for CatBoosting  Classifier**"
   ]
  },
  {
   "cell_type": "code",
   "execution_count": 33,
   "metadata": {},
   "outputs": [],
   "source": [
    "#Initialize few parameter for Hyperparamter tuning\n",
    "catboost_params = {\n",
    "    'depth':range(3,10,2),\n",
    "    'iterations':[10,50,100, 200]\n",
    "}\n",
    "\n",
    "rf_params = {\n",
    "    \"max_depth\": [10, 12, None, 15, 20],\n",
    "    \"max_features\": ['sqrt', 'log2', None],\n",
    "    \"n_estimators\": [10, 50, 100, 200]\n",
    "}\n",
    "\n",
    "xgboost_params = {\n",
    "    'max_depth':range(3,10,2),\n",
    "    'min_child_weight':range(1,6,2)\n",
    "}"
   ]
  },
  {
   "cell_type": "code",
   "execution_count": 34,
   "metadata": {},
   "outputs": [],
   "source": [
    "# Models list for Hyperparameter tuning\n",
    "randomcv_models = [\n",
    "    ('CatBoost', CatBoostClassifier(), catboost_params),\n",
    "    (\"RF\", RandomForestClassifier(), rf_params),\n",
    "    (\"XGboost\", XGBClassifier(), xgboost_params)\n",
    "]"
   ]
  },
  {
   "cell_type": "markdown",
   "metadata": {},
   "source": [
    "**Create a function for model training and report which can be used in hyperparameter tuning loop**"
   ]
  },
  {
   "cell_type": "code",
   "execution_count": 35,
   "metadata": {},
   "outputs": [
    {
     "name": "stdout",
     "output_type": "stream",
     "text": [
      "Fitting 3 folds for each of 16 candidates, totalling 48 fits\n",
      "Learning rate set to 0.101187\n",
      "0:\tlearn: 0.6440406\ttotal: 7.67ms\tremaining: 760ms\n",
      "1:\tlearn: 0.6110071\ttotal: 14.5ms\tremaining: 708ms\n",
      "2:\tlearn: 0.5814277\ttotal: 20.7ms\tremaining: 668ms\n",
      "3:\tlearn: 0.5563892\ttotal: 27.3ms\tremaining: 656ms\n",
      "4:\tlearn: 0.5351641\ttotal: 33.7ms\tremaining: 639ms\n",
      "5:\tlearn: 0.5155703\ttotal: 39.8ms\tremaining: 623ms\n",
      "6:\tlearn: 0.4986832\ttotal: 46.2ms\tremaining: 614ms\n",
      "7:\tlearn: 0.4753486\ttotal: 52.4ms\tremaining: 602ms\n",
      "8:\tlearn: 0.4589584\ttotal: 58.6ms\tremaining: 592ms\n",
      "9:\tlearn: 0.4464366\ttotal: 64.6ms\tremaining: 581ms\n",
      "10:\tlearn: 0.4258329\ttotal: 71.3ms\tremaining: 577ms\n",
      "11:\tlearn: 0.4072825\ttotal: 77.9ms\tremaining: 571ms\n",
      "12:\tlearn: 0.3913027\ttotal: 79.6ms\tremaining: 533ms\n",
      "13:\tlearn: 0.3761779\ttotal: 85.8ms\tremaining: 527ms\n",
      "14:\tlearn: 0.3601270\ttotal: 89.9ms\tremaining: 510ms\n",
      "15:\tlearn: 0.3508351\ttotal: 96.4ms\tremaining: 506ms\n",
      "16:\tlearn: 0.3408638\ttotal: 103ms\tremaining: 503ms\n",
      "17:\tlearn: 0.3323466\ttotal: 110ms\tremaining: 499ms\n",
      "18:\tlearn: 0.3261146\ttotal: 116ms\tremaining: 496ms\n",
      "19:\tlearn: 0.3187405\ttotal: 123ms\tremaining: 493ms\n",
      "20:\tlearn: 0.3135012\ttotal: 130ms\tremaining: 488ms\n",
      "21:\tlearn: 0.3048201\ttotal: 134ms\tremaining: 475ms\n",
      "22:\tlearn: 0.2961583\ttotal: 141ms\tremaining: 471ms\n",
      "23:\tlearn: 0.2897183\ttotal: 148ms\tremaining: 467ms\n",
      "24:\tlearn: 0.2811927\ttotal: 155ms\tremaining: 464ms\n",
      "25:\tlearn: 0.2752200\ttotal: 161ms\tremaining: 458ms\n",
      "26:\tlearn: 0.2711434\ttotal: 167ms\tremaining: 453ms\n",
      "27:\tlearn: 0.2653396\ttotal: 174ms\tremaining: 448ms\n",
      "28:\tlearn: 0.2608030\ttotal: 181ms\tremaining: 443ms\n",
      "29:\tlearn: 0.2548409\ttotal: 188ms\tremaining: 438ms\n",
      "30:\tlearn: 0.2516689\ttotal: 195ms\tremaining: 433ms\n",
      "31:\tlearn: 0.2472614\ttotal: 201ms\tremaining: 428ms\n",
      "32:\tlearn: 0.2432070\ttotal: 208ms\tremaining: 422ms\n",
      "33:\tlearn: 0.2395455\ttotal: 214ms\tremaining: 415ms\n",
      "34:\tlearn: 0.2358619\ttotal: 221ms\tremaining: 410ms\n",
      "35:\tlearn: 0.2321383\ttotal: 227ms\tremaining: 404ms\n",
      "36:\tlearn: 0.2289327\ttotal: 233ms\tremaining: 397ms\n",
      "37:\tlearn: 0.2257709\ttotal: 240ms\tremaining: 391ms\n",
      "38:\tlearn: 0.2228215\ttotal: 247ms\tremaining: 386ms\n",
      "39:\tlearn: 0.2199650\ttotal: 254ms\tremaining: 381ms\n",
      "40:\tlearn: 0.2176419\ttotal: 261ms\tremaining: 375ms\n",
      "41:\tlearn: 0.2143180\ttotal: 263ms\tremaining: 364ms\n",
      "42:\tlearn: 0.2121519\ttotal: 271ms\tremaining: 359ms\n",
      "43:\tlearn: 0.2096727\ttotal: 272ms\tremaining: 347ms\n",
      "44:\tlearn: 0.2069144\ttotal: 279ms\tremaining: 341ms\n",
      "45:\tlearn: 0.2045030\ttotal: 292ms\tremaining: 343ms\n",
      "46:\tlearn: 0.2027328\ttotal: 299ms\tremaining: 337ms\n",
      "47:\tlearn: 0.2003901\ttotal: 306ms\tremaining: 332ms\n",
      "48:\tlearn: 0.1974609\ttotal: 313ms\tremaining: 326ms\n",
      "49:\tlearn: 0.1955077\ttotal: 321ms\tremaining: 321ms\n",
      "50:\tlearn: 0.1935401\ttotal: 327ms\tremaining: 315ms\n",
      "51:\tlearn: 0.1916124\ttotal: 335ms\tremaining: 309ms\n",
      "52:\tlearn: 0.1899069\ttotal: 341ms\tremaining: 302ms\n",
      "53:\tlearn: 0.1874639\ttotal: 348ms\tremaining: 296ms\n",
      "54:\tlearn: 0.1857897\ttotal: 349ms\tremaining: 286ms\n",
      "55:\tlearn: 0.1839303\ttotal: 356ms\tremaining: 280ms\n",
      "56:\tlearn: 0.1822733\ttotal: 363ms\tremaining: 274ms\n",
      "57:\tlearn: 0.1805643\ttotal: 370ms\tremaining: 268ms\n",
      "58:\tlearn: 0.1784566\ttotal: 376ms\tremaining: 261ms\n",
      "59:\tlearn: 0.1766382\ttotal: 382ms\tremaining: 255ms\n",
      "60:\tlearn: 0.1746570\ttotal: 389ms\tremaining: 249ms\n",
      "61:\tlearn: 0.1732331\ttotal: 395ms\tremaining: 242ms\n",
      "62:\tlearn: 0.1717326\ttotal: 402ms\tremaining: 236ms\n",
      "63:\tlearn: 0.1703642\ttotal: 408ms\tremaining: 230ms\n",
      "64:\tlearn: 0.1688759\ttotal: 416ms\tremaining: 224ms\n",
      "65:\tlearn: 0.1675386\ttotal: 422ms\tremaining: 218ms\n",
      "66:\tlearn: 0.1663010\ttotal: 429ms\tremaining: 211ms\n",
      "67:\tlearn: 0.1648019\ttotal: 435ms\tremaining: 205ms\n",
      "68:\tlearn: 0.1635501\ttotal: 442ms\tremaining: 198ms\n",
      "69:\tlearn: 0.1622681\ttotal: 448ms\tremaining: 192ms\n",
      "70:\tlearn: 0.1610908\ttotal: 454ms\tremaining: 185ms\n",
      "71:\tlearn: 0.1600007\ttotal: 461ms\tremaining: 179ms\n",
      "72:\tlearn: 0.1584225\ttotal: 467ms\tremaining: 173ms\n",
      "73:\tlearn: 0.1568583\ttotal: 474ms\tremaining: 167ms\n",
      "74:\tlearn: 0.1555306\ttotal: 481ms\tremaining: 160ms\n",
      "75:\tlearn: 0.1538604\ttotal: 486ms\tremaining: 154ms\n",
      "76:\tlearn: 0.1524877\ttotal: 493ms\tremaining: 147ms\n",
      "77:\tlearn: 0.1513589\ttotal: 499ms\tremaining: 141ms\n",
      "78:\tlearn: 0.1502264\ttotal: 506ms\tremaining: 135ms\n",
      "79:\tlearn: 0.1489503\ttotal: 513ms\tremaining: 128ms\n",
      "80:\tlearn: 0.1476891\ttotal: 519ms\tremaining: 122ms\n",
      "81:\tlearn: 0.1465328\ttotal: 525ms\tremaining: 115ms\n",
      "82:\tlearn: 0.1450488\ttotal: 532ms\tremaining: 109ms\n",
      "83:\tlearn: 0.1439410\ttotal: 538ms\tremaining: 102ms\n",
      "84:\tlearn: 0.1427529\ttotal: 545ms\tremaining: 96.1ms\n",
      "85:\tlearn: 0.1417746\ttotal: 551ms\tremaining: 89.7ms\n",
      "86:\tlearn: 0.1402553\ttotal: 557ms\tremaining: 83.3ms\n",
      "87:\tlearn: 0.1388211\ttotal: 563ms\tremaining: 76.8ms\n",
      "88:\tlearn: 0.1376744\ttotal: 570ms\tremaining: 70.4ms\n",
      "89:\tlearn: 0.1366555\ttotal: 577ms\tremaining: 64.1ms\n",
      "90:\tlearn: 0.1355325\ttotal: 583ms\tremaining: 57.7ms\n",
      "91:\tlearn: 0.1341368\ttotal: 590ms\tremaining: 51.3ms\n",
      "92:\tlearn: 0.1330184\ttotal: 597ms\tremaining: 44.9ms\n",
      "93:\tlearn: 0.1318199\ttotal: 604ms\tremaining: 38.5ms\n",
      "94:\tlearn: 0.1308520\ttotal: 611ms\tremaining: 32.1ms\n",
      "95:\tlearn: 0.1298901\ttotal: 617ms\tremaining: 25.7ms\n",
      "96:\tlearn: 0.1286189\ttotal: 624ms\tremaining: 19.3ms\n",
      "97:\tlearn: 0.1277448\ttotal: 631ms\tremaining: 12.9ms\n",
      "98:\tlearn: 0.1267900\ttotal: 638ms\tremaining: 6.45ms\n",
      "99:\tlearn: 0.1258473\ttotal: 645ms\tremaining: 0us\n",
      "Fitting 3 folds for each of 60 candidates, totalling 180 fits\n",
      "Fitting 3 folds for each of 12 candidates, totalling 36 fits\n",
      "---------------- Best Params for CatBoost -------------------\n",
      "{'iterations': 100, 'depth': 9}\n",
      "---------------- Best Params for RF -------------------\n",
      "{'n_estimators': 100, 'max_features': None, 'max_depth': 12}\n",
      "---------------- Best Params for XGboost -------------------\n",
      "{'min_child_weight': 1, 'max_depth': 7}\n"
     ]
    }
   ],
   "source": [
    "from sklearn.model_selection import RandomizedSearchCV\n",
    "\n",
    "model_param = {}\n",
    "for name, model, params in randomcv_models:\n",
    "    random = RandomizedSearchCV(estimator=model,\n",
    "                                   param_distributions=params,\n",
    "                                   n_iter=100,\n",
    "                                   cv=3,\n",
    "                                   verbose=2, \n",
    "                                   n_jobs=-1)\n",
    "    random.fit(X, y)\n",
    "    model_param[name] = random.best_params_\n",
    "\n",
    "for model_name in model_param:\n",
    "    print(f\"---------------- Best Params for {model_name} -------------------\")\n",
    "    print(model_param[model_name])"
   ]
  },
  {
   "cell_type": "code",
   "execution_count": 36,
   "metadata": {},
   "outputs": [
    {
     "data": {
      "text/plain": [
       "{'CatBoost': {'iterations': 100, 'depth': 9},\n",
       " 'RF': {'n_estimators': 100, 'max_features': None, 'max_depth': 12},\n",
       " 'XGboost': {'min_child_weight': 1, 'max_depth': 7}}"
      ]
     },
     "execution_count": 36,
     "metadata": {},
     "output_type": "execute_result"
    }
   ],
   "source": [
    "model_param"
   ]
  },
  {
   "cell_type": "markdown",
   "metadata": {},
   "source": [
    "## Retraining the Model with best Parameters"
   ]
  },
  {
   "cell_type": "code",
   "execution_count": 37,
   "metadata": {},
   "outputs": [
    {
     "name": "stdout",
     "output_type": "stream",
     "text": [
      "Random Forest Classifier\n",
      "Model performance for Training set\n",
      "- Accuracy: 0.9992\n",
      "- F1 score: 0.9987\n",
      "- Precision: 1.0000\n",
      "- Recall: 0.9974\n",
      "- Roc Auc Score: 0.9987\n",
      "----------------------------------\n",
      "Model performance for Test set\n",
      "- Accuracy: 0.9400\n",
      "- F1 score: 0.8902\n",
      "- Precision: 0.9241\n",
      "- Recall: 0.8588\n",
      "- Roc Auc Score: 0.9155\n",
      "===================================\n",
      "\n",
      "\n",
      "Learning rate set to 0.091991\n",
      "0:\tlearn: 0.6609771\ttotal: 7.73ms\tremaining: 765ms\n",
      "1:\tlearn: 0.6309345\ttotal: 14.2ms\tremaining: 694ms\n",
      "2:\tlearn: 0.6022606\ttotal: 20.5ms\tremaining: 662ms\n",
      "3:\tlearn: 0.5803356\ttotal: 26.8ms\tremaining: 642ms\n",
      "4:\tlearn: 0.5615425\ttotal: 33.1ms\tremaining: 629ms\n",
      "5:\tlearn: 0.5459442\ttotal: 39.5ms\tremaining: 619ms\n",
      "6:\tlearn: 0.5291862\ttotal: 46ms\tremaining: 610ms\n",
      "7:\tlearn: 0.5073022\ttotal: 52.9ms\tremaining: 609ms\n",
      "8:\tlearn: 0.4907327\ttotal: 59.5ms\tremaining: 602ms\n",
      "9:\tlearn: 0.4792043\ttotal: 65.8ms\tremaining: 592ms\n",
      "10:\tlearn: 0.4590845\ttotal: 72.5ms\tremaining: 587ms\n",
      "11:\tlearn: 0.4420261\ttotal: 78.7ms\tremaining: 577ms\n",
      "12:\tlearn: 0.4286681\ttotal: 85.2ms\tremaining: 570ms\n",
      "13:\tlearn: 0.4180186\ttotal: 92ms\tremaining: 565ms\n",
      "14:\tlearn: 0.4083660\ttotal: 98.9ms\tremaining: 560ms\n",
      "15:\tlearn: 0.4002905\ttotal: 106ms\tremaining: 557ms\n",
      "16:\tlearn: 0.3887587\ttotal: 113ms\tremaining: 549ms\n",
      "17:\tlearn: 0.3774089\ttotal: 119ms\tremaining: 543ms\n",
      "18:\tlearn: 0.3683031\ttotal: 126ms\tremaining: 536ms\n",
      "19:\tlearn: 0.3608772\ttotal: 132ms\tremaining: 529ms\n",
      "20:\tlearn: 0.3532315\ttotal: 139ms\tremaining: 524ms\n",
      "21:\tlearn: 0.3463983\ttotal: 146ms\tremaining: 517ms\n",
      "22:\tlearn: 0.3406367\ttotal: 153ms\tremaining: 511ms\n",
      "23:\tlearn: 0.3326854\ttotal: 159ms\tremaining: 504ms\n",
      "24:\tlearn: 0.3284060\ttotal: 165ms\tremaining: 496ms\n",
      "25:\tlearn: 0.3239831\ttotal: 172ms\tremaining: 490ms\n",
      "26:\tlearn: 0.3161873\ttotal: 179ms\tremaining: 483ms\n",
      "27:\tlearn: 0.3090026\ttotal: 181ms\tremaining: 465ms\n",
      "28:\tlearn: 0.3038749\ttotal: 188ms\tremaining: 460ms\n",
      "29:\tlearn: 0.2994106\ttotal: 194ms\tremaining: 453ms\n",
      "30:\tlearn: 0.2949575\ttotal: 201ms\tremaining: 447ms\n",
      "31:\tlearn: 0.2891952\ttotal: 207ms\tremaining: 440ms\n",
      "32:\tlearn: 0.2838662\ttotal: 214ms\tremaining: 435ms\n",
      "33:\tlearn: 0.2791683\ttotal: 221ms\tremaining: 429ms\n",
      "34:\tlearn: 0.2746494\ttotal: 228ms\tremaining: 423ms\n",
      "35:\tlearn: 0.2711793\ttotal: 234ms\tremaining: 416ms\n",
      "36:\tlearn: 0.2666721\ttotal: 240ms\tremaining: 409ms\n",
      "37:\tlearn: 0.2630023\ttotal: 247ms\tremaining: 403ms\n",
      "38:\tlearn: 0.2594425\ttotal: 254ms\tremaining: 397ms\n",
      "39:\tlearn: 0.2557596\ttotal: 260ms\tremaining: 390ms\n",
      "40:\tlearn: 0.2531794\ttotal: 267ms\tremaining: 384ms\n",
      "41:\tlearn: 0.2495085\ttotal: 273ms\tremaining: 377ms\n",
      "42:\tlearn: 0.2468181\ttotal: 280ms\tremaining: 371ms\n",
      "43:\tlearn: 0.2425025\ttotal: 281ms\tremaining: 357ms\n",
      "44:\tlearn: 0.2378282\ttotal: 288ms\tremaining: 352ms\n",
      "45:\tlearn: 0.2348149\ttotal: 294ms\tremaining: 345ms\n",
      "46:\tlearn: 0.2327037\ttotal: 301ms\tremaining: 339ms\n",
      "47:\tlearn: 0.2286566\ttotal: 302ms\tremaining: 328ms\n",
      "48:\tlearn: 0.2253600\ttotal: 309ms\tremaining: 321ms\n",
      "49:\tlearn: 0.2231585\ttotal: 315ms\tremaining: 315ms\n",
      "50:\tlearn: 0.2205603\ttotal: 321ms\tremaining: 309ms\n",
      "51:\tlearn: 0.2187280\ttotal: 328ms\tremaining: 302ms\n",
      "52:\tlearn: 0.2152172\ttotal: 334ms\tremaining: 296ms\n",
      "53:\tlearn: 0.2129321\ttotal: 340ms\tremaining: 290ms\n",
      "54:\tlearn: 0.2101776\ttotal: 346ms\tremaining: 283ms\n",
      "55:\tlearn: 0.2079477\ttotal: 353ms\tremaining: 277ms\n",
      "56:\tlearn: 0.2062564\ttotal: 359ms\tremaining: 271ms\n",
      "57:\tlearn: 0.2040608\ttotal: 360ms\tremaining: 261ms\n",
      "58:\tlearn: 0.2021303\ttotal: 366ms\tremaining: 254ms\n",
      "59:\tlearn: 0.2001608\ttotal: 372ms\tremaining: 248ms\n",
      "60:\tlearn: 0.1988675\ttotal: 373ms\tremaining: 238ms\n",
      "61:\tlearn: 0.1972643\ttotal: 379ms\tremaining: 232ms\n",
      "62:\tlearn: 0.1952013\ttotal: 385ms\tremaining: 226ms\n",
      "63:\tlearn: 0.1933942\ttotal: 393ms\tremaining: 221ms\n",
      "64:\tlearn: 0.1911432\ttotal: 399ms\tremaining: 215ms\n",
      "65:\tlearn: 0.1893355\ttotal: 405ms\tremaining: 209ms\n",
      "66:\tlearn: 0.1868681\ttotal: 411ms\tremaining: 203ms\n",
      "67:\tlearn: 0.1849234\ttotal: 419ms\tremaining: 197ms\n",
      "68:\tlearn: 0.1832381\ttotal: 428ms\tremaining: 192ms\n",
      "69:\tlearn: 0.1820621\ttotal: 434ms\tremaining: 186ms\n",
      "70:\tlearn: 0.1804126\ttotal: 442ms\tremaining: 180ms\n",
      "71:\tlearn: 0.1787283\ttotal: 448ms\tremaining: 174ms\n",
      "72:\tlearn: 0.1772335\ttotal: 454ms\tremaining: 168ms\n",
      "73:\tlearn: 0.1752581\ttotal: 461ms\tremaining: 162ms\n",
      "74:\tlearn: 0.1737026\ttotal: 467ms\tremaining: 156ms\n",
      "75:\tlearn: 0.1722627\ttotal: 473ms\tremaining: 150ms\n",
      "76:\tlearn: 0.1708185\ttotal: 480ms\tremaining: 143ms\n",
      "77:\tlearn: 0.1693945\ttotal: 486ms\tremaining: 137ms\n",
      "78:\tlearn: 0.1679612\ttotal: 492ms\tremaining: 131ms\n",
      "79:\tlearn: 0.1665062\ttotal: 499ms\tremaining: 125ms\n",
      "80:\tlearn: 0.1651962\ttotal: 506ms\tremaining: 119ms\n",
      "81:\tlearn: 0.1638194\ttotal: 512ms\tremaining: 112ms\n",
      "82:\tlearn: 0.1620248\ttotal: 518ms\tremaining: 106ms\n",
      "83:\tlearn: 0.1606325\ttotal: 525ms\tremaining: 99.9ms\n",
      "84:\tlearn: 0.1592308\ttotal: 531ms\tremaining: 93.7ms\n",
      "85:\tlearn: 0.1576742\ttotal: 537ms\tremaining: 87.4ms\n",
      "86:\tlearn: 0.1561709\ttotal: 544ms\tremaining: 81.2ms\n",
      "87:\tlearn: 0.1551360\ttotal: 550ms\tremaining: 75ms\n",
      "88:\tlearn: 0.1539024\ttotal: 556ms\tremaining: 68.7ms\n",
      "89:\tlearn: 0.1526535\ttotal: 562ms\tremaining: 62.5ms\n",
      "90:\tlearn: 0.1512422\ttotal: 568ms\tremaining: 56.2ms\n",
      "91:\tlearn: 0.1501620\ttotal: 575ms\tremaining: 50ms\n",
      "92:\tlearn: 0.1488175\ttotal: 581ms\tremaining: 43.7ms\n",
      "93:\tlearn: 0.1474042\ttotal: 588ms\tremaining: 37.5ms\n",
      "94:\tlearn: 0.1461920\ttotal: 593ms\tremaining: 31.2ms\n",
      "95:\tlearn: 0.1451513\ttotal: 600ms\tremaining: 25ms\n",
      "96:\tlearn: 0.1440990\ttotal: 606ms\tremaining: 18.7ms\n",
      "97:\tlearn: 0.1427193\ttotal: 612ms\tremaining: 12.5ms\n",
      "98:\tlearn: 0.1417116\ttotal: 619ms\tremaining: 6.25ms\n",
      "99:\tlearn: 0.1405776\ttotal: 625ms\tremaining: 0us\n",
      "CatBoostClassifier\n",
      "Model performance for Training set\n",
      "- Accuracy: 0.9675\n",
      "- F1 score: 0.9469\n",
      "- Precision: 0.9803\n",
      "- Recall: 0.9158\n",
      "- Roc Auc Score: 0.9536\n",
      "----------------------------------\n",
      "Model performance for Test set\n",
      "- Accuracy: 0.9500\n",
      "- F1 score: 0.9102\n",
      "- Precision: 0.9268\n",
      "- Recall: 0.8941\n",
      "- Roc Auc Score: 0.9331\n",
      "===================================\n",
      "\n",
      "\n",
      "XGBClassifier\n",
      "Model performance for Training set\n",
      "- Accuracy: 1.0000\n",
      "- F1 score: 1.0000\n",
      "- Precision: 1.0000\n",
      "- Recall: 1.0000\n",
      "- Roc Auc Score: 1.0000\n",
      "----------------------------------\n",
      "Model performance for Test set\n",
      "- Accuracy: 0.9367\n",
      "- F1 score: 0.8862\n",
      "- Precision: 0.9024\n",
      "- Recall: 0.8706\n",
      "- Roc Auc Score: 0.9167\n",
      "===================================\n",
      "\n",
      "\n"
     ]
    }
   ],
   "source": [
    "from sklearn.metrics import roc_auc_score,roc_curve\n",
    "best_models = {\n",
    "    \"Random Forest Classifier\": RandomForestClassifier(**model_param['RF']),\n",
    "    \"CatBoostClassifier\": CatBoostClassifier(**model_param['CatBoost']),\n",
    "    \"XGBClassifier\": XGBClassifier(**model_param['XGboost'],n_jobs=-1),\n",
    "}\n",
    "tuned_report =evaluate_models(X=X, y=y, models=best_models)"
   ]
  },
  {
   "cell_type": "code",
   "execution_count": 38,
   "metadata": {},
   "outputs": [
    {
     "data": {
      "text/html": [
       "<div>\n",
       "<style scoped>\n",
       "    .dataframe tbody tr th:only-of-type {\n",
       "        vertical-align: middle;\n",
       "    }\n",
       "\n",
       "    .dataframe tbody tr th {\n",
       "        vertical-align: top;\n",
       "    }\n",
       "\n",
       "    .dataframe thead th {\n",
       "        text-align: right;\n",
       "    }\n",
       "</style>\n",
       "<table border=\"1\" class=\"dataframe\">\n",
       "  <thead>\n",
       "    <tr style=\"text-align: right;\">\n",
       "      <th></th>\n",
       "      <th>Model Name</th>\n",
       "      <th>Accuracy</th>\n",
       "    </tr>\n",
       "  </thead>\n",
       "  <tbody>\n",
       "    <tr>\n",
       "      <th>1</th>\n",
       "      <td>CatBoostClassifier</td>\n",
       "      <td>0.950000</td>\n",
       "    </tr>\n",
       "    <tr>\n",
       "      <th>0</th>\n",
       "      <td>Random Forest Classifier</td>\n",
       "      <td>0.940000</td>\n",
       "    </tr>\n",
       "    <tr>\n",
       "      <th>2</th>\n",
       "      <td>XGBClassifier</td>\n",
       "      <td>0.936667</td>\n",
       "    </tr>\n",
       "  </tbody>\n",
       "</table>\n",
       "</div>"
      ],
      "text/plain": [
       "                 Model Name  Accuracy\n",
       "1        CatBoostClassifier  0.950000\n",
       "0  Random Forest Classifier  0.940000\n",
       "2             XGBClassifier  0.936667"
      ]
     },
     "execution_count": 38,
     "metadata": {},
     "output_type": "execute_result"
    }
   ],
   "source": [
    "tuned_report"
   ]
  },
  {
   "cell_type": "code",
   "execution_count": 39,
   "metadata": {},
   "outputs": [
    {
     "name": "stdout",
     "output_type": "stream",
     "text": [
      "Learning rate set to 0.091991\n",
      "0:\tlearn: 0.6609771\ttotal: 10.3ms\tremaining: 1.02s\n",
      "1:\tlearn: 0.6309345\ttotal: 17.3ms\tremaining: 848ms\n",
      "2:\tlearn: 0.6022606\ttotal: 24.4ms\tremaining: 788ms\n",
      "3:\tlearn: 0.5803356\ttotal: 31.5ms\tremaining: 756ms\n",
      "4:\tlearn: 0.5615425\ttotal: 39.3ms\tremaining: 746ms\n",
      "5:\tlearn: 0.5459442\ttotal: 47ms\tremaining: 736ms\n",
      "6:\tlearn: 0.5291862\ttotal: 53.5ms\tremaining: 711ms\n",
      "7:\tlearn: 0.5073022\ttotal: 60.9ms\tremaining: 700ms\n",
      "8:\tlearn: 0.4907327\ttotal: 67.7ms\tremaining: 684ms\n",
      "9:\tlearn: 0.4792043\ttotal: 74.1ms\tremaining: 667ms\n",
      "10:\tlearn: 0.4590845\ttotal: 81.1ms\tremaining: 656ms\n",
      "11:\tlearn: 0.4420261\ttotal: 87.4ms\tremaining: 641ms\n",
      "12:\tlearn: 0.4286681\ttotal: 94.5ms\tremaining: 633ms\n",
      "13:\tlearn: 0.4180186\ttotal: 102ms\tremaining: 626ms\n",
      "14:\tlearn: 0.4083660\ttotal: 109ms\tremaining: 620ms\n",
      "15:\tlearn: 0.4002905\ttotal: 117ms\tremaining: 613ms\n",
      "16:\tlearn: 0.3887587\ttotal: 124ms\tremaining: 606ms\n",
      "17:\tlearn: 0.3774089\ttotal: 131ms\tremaining: 597ms\n",
      "18:\tlearn: 0.3683031\ttotal: 138ms\tremaining: 588ms\n",
      "19:\tlearn: 0.3608772\ttotal: 145ms\tremaining: 580ms\n",
      "20:\tlearn: 0.3532315\ttotal: 151ms\tremaining: 570ms\n",
      "21:\tlearn: 0.3463983\ttotal: 159ms\tremaining: 563ms\n",
      "22:\tlearn: 0.3406367\ttotal: 166ms\tremaining: 555ms\n",
      "23:\tlearn: 0.3326854\ttotal: 173ms\tremaining: 549ms\n",
      "24:\tlearn: 0.3284060\ttotal: 180ms\tremaining: 541ms\n",
      "25:\tlearn: 0.3239831\ttotal: 187ms\tremaining: 533ms\n",
      "26:\tlearn: 0.3161873\ttotal: 194ms\tremaining: 524ms\n",
      "27:\tlearn: 0.3090026\ttotal: 195ms\tremaining: 501ms\n",
      "28:\tlearn: 0.3038749\ttotal: 202ms\tremaining: 494ms\n",
      "29:\tlearn: 0.2994106\ttotal: 209ms\tremaining: 489ms\n",
      "30:\tlearn: 0.2949575\ttotal: 217ms\tremaining: 482ms\n",
      "31:\tlearn: 0.2891952\ttotal: 224ms\tremaining: 476ms\n",
      "32:\tlearn: 0.2838662\ttotal: 231ms\tremaining: 470ms\n",
      "33:\tlearn: 0.2791683\ttotal: 238ms\tremaining: 463ms\n",
      "34:\tlearn: 0.2746494\ttotal: 246ms\tremaining: 456ms\n",
      "35:\tlearn: 0.2711793\ttotal: 252ms\tremaining: 449ms\n",
      "36:\tlearn: 0.2666721\ttotal: 259ms\tremaining: 442ms\n",
      "37:\tlearn: 0.2630023\ttotal: 267ms\tremaining: 435ms\n",
      "38:\tlearn: 0.2594425\ttotal: 273ms\tremaining: 428ms\n",
      "39:\tlearn: 0.2557596\ttotal: 284ms\tremaining: 426ms\n",
      "40:\tlearn: 0.2531794\ttotal: 294ms\tremaining: 423ms\n",
      "41:\tlearn: 0.2495085\ttotal: 302ms\tremaining: 417ms\n",
      "42:\tlearn: 0.2468181\ttotal: 309ms\tremaining: 409ms\n",
      "43:\tlearn: 0.2425025\ttotal: 310ms\tremaining: 394ms\n",
      "44:\tlearn: 0.2378282\ttotal: 319ms\tremaining: 390ms\n",
      "45:\tlearn: 0.2348149\ttotal: 326ms\tremaining: 383ms\n",
      "46:\tlearn: 0.2327037\ttotal: 334ms\tremaining: 377ms\n",
      "47:\tlearn: 0.2286566\ttotal: 336ms\tremaining: 364ms\n",
      "48:\tlearn: 0.2253600\ttotal: 343ms\tremaining: 357ms\n",
      "49:\tlearn: 0.2231585\ttotal: 352ms\tremaining: 352ms\n",
      "50:\tlearn: 0.2205603\ttotal: 359ms\tremaining: 345ms\n",
      "51:\tlearn: 0.2187280\ttotal: 366ms\tremaining: 338ms\n",
      "52:\tlearn: 0.2152172\ttotal: 373ms\tremaining: 331ms\n",
      "53:\tlearn: 0.2129321\ttotal: 382ms\tremaining: 325ms\n",
      "54:\tlearn: 0.2101776\ttotal: 390ms\tremaining: 319ms\n",
      "55:\tlearn: 0.2079477\ttotal: 407ms\tremaining: 320ms\n",
      "56:\tlearn: 0.2062564\ttotal: 415ms\tremaining: 313ms\n",
      "57:\tlearn: 0.2040608\ttotal: 416ms\tremaining: 301ms\n",
      "58:\tlearn: 0.2021303\ttotal: 422ms\tremaining: 293ms\n",
      "59:\tlearn: 0.2001608\ttotal: 429ms\tremaining: 286ms\n",
      "60:\tlearn: 0.1988675\ttotal: 430ms\tremaining: 275ms\n",
      "61:\tlearn: 0.1972643\ttotal: 437ms\tremaining: 268ms\n",
      "62:\tlearn: 0.1952013\ttotal: 445ms\tremaining: 261ms\n",
      "63:\tlearn: 0.1933942\ttotal: 452ms\tremaining: 254ms\n",
      "64:\tlearn: 0.1911432\ttotal: 460ms\tremaining: 247ms\n",
      "65:\tlearn: 0.1893355\ttotal: 467ms\tremaining: 240ms\n",
      "66:\tlearn: 0.1868681\ttotal: 474ms\tremaining: 233ms\n",
      "67:\tlearn: 0.1849234\ttotal: 481ms\tremaining: 226ms\n",
      "68:\tlearn: 0.1832381\ttotal: 488ms\tremaining: 219ms\n",
      "69:\tlearn: 0.1820621\ttotal: 495ms\tremaining: 212ms\n",
      "70:\tlearn: 0.1804126\ttotal: 502ms\tremaining: 205ms\n",
      "71:\tlearn: 0.1787283\ttotal: 509ms\tremaining: 198ms\n",
      "72:\tlearn: 0.1772335\ttotal: 515ms\tremaining: 191ms\n",
      "73:\tlearn: 0.1752581\ttotal: 523ms\tremaining: 184ms\n",
      "74:\tlearn: 0.1737026\ttotal: 529ms\tremaining: 176ms\n",
      "75:\tlearn: 0.1722627\ttotal: 536ms\tremaining: 169ms\n",
      "76:\tlearn: 0.1708185\ttotal: 543ms\tremaining: 162ms\n",
      "77:\tlearn: 0.1693945\ttotal: 550ms\tremaining: 155ms\n",
      "78:\tlearn: 0.1679612\ttotal: 557ms\tremaining: 148ms\n",
      "79:\tlearn: 0.1665062\ttotal: 564ms\tremaining: 141ms\n",
      "80:\tlearn: 0.1651962\ttotal: 571ms\tremaining: 134ms\n",
      "81:\tlearn: 0.1638194\ttotal: 578ms\tremaining: 127ms\n",
      "82:\tlearn: 0.1620248\ttotal: 585ms\tremaining: 120ms\n",
      "83:\tlearn: 0.1606325\ttotal: 591ms\tremaining: 113ms\n",
      "84:\tlearn: 0.1592308\ttotal: 598ms\tremaining: 106ms\n",
      "85:\tlearn: 0.1576742\ttotal: 606ms\tremaining: 98.7ms\n",
      "86:\tlearn: 0.1561709\ttotal: 613ms\tremaining: 91.6ms\n",
      "87:\tlearn: 0.1551360\ttotal: 620ms\tremaining: 84.5ms\n",
      "88:\tlearn: 0.1539024\ttotal: 627ms\tremaining: 77.5ms\n",
      "89:\tlearn: 0.1526535\ttotal: 634ms\tremaining: 70.5ms\n",
      "90:\tlearn: 0.1512422\ttotal: 641ms\tremaining: 63.4ms\n",
      "91:\tlearn: 0.1501620\ttotal: 648ms\tremaining: 56.4ms\n",
      "92:\tlearn: 0.1488175\ttotal: 656ms\tremaining: 49.4ms\n",
      "93:\tlearn: 0.1474042\ttotal: 663ms\tremaining: 42.3ms\n",
      "94:\tlearn: 0.1461920\ttotal: 670ms\tremaining: 35.3ms\n",
      "95:\tlearn: 0.1451513\ttotal: 677ms\tremaining: 28.2ms\n",
      "96:\tlearn: 0.1440990\ttotal: 684ms\tremaining: 21.2ms\n",
      "97:\tlearn: 0.1427193\ttotal: 691ms\tremaining: 14.1ms\n",
      "98:\tlearn: 0.1417116\ttotal: 697ms\tremaining: 7.04ms\n",
      "99:\tlearn: 0.1405776\ttotal: 705ms\tremaining: 0us\n",
      "FINAL MODEL 'CatBoostClassifier'\n",
      "Accuracy Score value: 0.9500\n",
      "              precision    recall  f1-score   support\n",
      "\n",
      "           0       0.96      0.97      0.97       215\n",
      "           1       0.93      0.89      0.91        85\n",
      "\n",
      "    accuracy                           0.95       300\n",
      "   macro avg       0.94      0.93      0.94       300\n",
      "weighted avg       0.95      0.95      0.95       300\n",
      "\n"
     ]
    }
   ],
   "source": [
    "best_model = CatBoostClassifier(**model_param['CatBoost'])\n",
    "best_model = best_model.fit(X_train,y_train)\n",
    "y_pred = best_model.predict(X_test)\n",
    "score = accuracy_score(y_test,y_pred)\n",
    "cr = classification_report(y_test,y_pred)\n",
    "\n",
    "print(\"FINAL MODEL 'CatBoostClassifier'\")\n",
    "print (\"Accuracy Score value: {:.4f}\".format(score))\n",
    "print (cr)"
   ]
  },
  {
   "cell_type": "code",
   "execution_count": 40,
   "metadata": {},
   "outputs": [
    {
     "data": {
      "text/plain": [
       "<sklearn.metrics._plot.confusion_matrix.ConfusionMatrixDisplay at 0x23513eac7c0>"
      ]
     },
     "execution_count": 40,
     "metadata": {},
     "output_type": "execute_result"
    },
    {
     "data": {
      "image/png": "[encoded data removed]",
      "text/plain": [
       "<Figure size 640x480 with 2 Axes>"
      ]
     },
     "metadata": {},
     "output_type": "display_data"
    }
   ],
   "source": [
    "from sklearn.metrics import ConfusionMatrixDisplay\n",
    "ConfusionMatrixDisplay.from_estimator(best_model, X_test, y_test)"
   ]
  },
  {
   "cell_type": "markdown",
   "metadata": {},
   "source": [
    "## Best Model is CatBoost Classifier with Accuracy 95%"
   ]
  },
  {
   "cell_type": "code",
   "execution_count": null,
   "metadata": {},
   "outputs": [],
   "source": []
  }
 ],
 "metadata": {
  "kernelspec": {
   "display_name": "Python 3",
   "language": "python",
   "name": "python3"
  },
  "language_info": {
   "codemirror_mode": {
    "name": "ipython",
    "version": 3
   },
   "file_extension": ".py",
   "mimetype": "text/x-python",
   "name": "python",
   "nbconvert_exporter": "python",
   "pygments_lexer": "ipython3",
   "version": "3.8.0"
  }
 },
 "nbformat": 4,
 "nbformat_minor": 2
}
